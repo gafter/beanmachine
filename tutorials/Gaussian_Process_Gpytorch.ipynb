{
 "cells": [
  {
   "cell_type": "markdown",
   "metadata": {},
   "source": [
    "## Gaussian Process Regression (with `GPytorch`)"
   ]
  },
  {
   "cell_type": "markdown",
   "metadata": {},
   "source": [
    "This tutorial assumes familiarity with the following:\n",
    "\n",
    "1. Bean Machine [modeling](https://beanmachine.org/docs/overview/modeling/) and\n",
    "   [inference](https://beanmachine.org/docs/overview/inference/)\n",
    "2. [Gaussian Processes](https://en.wikipedia.org/wiki/Gaussian_process)\n",
    "3. [GPyTorch](https://gpytorch.ai/)\n",
    "\n",
    "A Gaussian Process (GP) is a stochastic process commonly used in Bayesian\n",
    "non-parametrics, whose finite collection of random variables follow a multivariate\n",
    "Gaussian distribution. GPs are fully defined by a mean and covariance function:\n",
    "\n",
    "$$\n",
    "f\\sim\\mathcal{GP}\\left(\\mu(x),\\mathbf{K}_f(x, x')\\right)\n",
    "$$\n",
    "\n",
    "where $x,x'\\in\\mathbf{X}$ are two data points (_e.g._) train and test), $\\mu$ is the\n",
    "mean function (usually taken to be zero or constant), and $\\mathbf{K}_f$ is the kernel\n",
    "function, which computes a covariance given two data points and a distance metric.\n",
    "\n",
    "The aim is then to fit a posterior over *functions*. GPs allow us to learn a\n",
    "distribution over functions given our observed data and predict unseen data with\n",
    "well-calibrated uncertainty, and is commonly used in Bayesian Optimization as a\n",
    "surrogate function to maximize an objective. For a thorough introduction to Gaussian\n",
    "processes, please see [1]\n",
    "\n",
    "With a PPL such as Bean Machine, we can be Bayesian about the parameters we care about,\n",
    "_i.e._ learn posterior distributions over these parameters rather than a point estimate."
   ]
  },
  {
   "cell_type": "code",
   "execution_count": 1,
   "metadata": {},
   "outputs": [],
   "source": [
    "# Install Bean Machine in Colab if using Colab.\n",
    "import sys\n",
    "\n",
    "\n",
    "if \"google.colab\" in sys.modules and \"beanmachine\" not in sys.modules:\n",
    "    !pip install beanmachine"
   ]
  },
  {
   "cell_type": "code",
   "execution_count": 2,
   "metadata": {},
   "outputs": [],
   "source": [
    "import copy\n",
    "import math\n",
    "import os\n",
    "import warnings\n",
    "from functools import partial\n",
    "\n",
    "import arviz as az\n",
    "import beanmachine\n",
    "import beanmachine.ppl as bm\n",
    "import beanmachine.ppl.experimental.gp as bgp\n",
    "import gpytorch\n",
    "import matplotlib.pyplot as plt\n",
    "import seaborn as sns\n",
    "import torch\n",
    "import torch.distributions as dist\n",
    "from beanmachine.ppl.experimental.gp.models import SimpleGP\n",
    "from gpytorch.distributions import MultivariateNormal\n",
    "from gpytorch.kernels import Kernel"
   ]
  },
  {
   "cell_type": "markdown",
   "metadata": {},
   "source": [
    "The next cell includes convenient configuration settings to improve the notebook\n",
    "presentation as well as setting a manual seed for reproducibility."
   ]
  },
  {
   "cell_type": "code",
   "execution_count": 3,
   "metadata": {},
   "outputs": [
    {
     "name": "stdout",
     "output_type": "stream",
     "text": [
      "pytorch version:  1.11.0\n",
      "gpytorch version:  1.6.0\n"
     ]
    }
   ],
   "source": [
    "# Eliminate excess UserWarnings from Python.\n",
    "warnings.filterwarnings(\"ignore\")\n",
    "\n",
    "# Manual seed\n",
    "torch.manual_seed(123)\n",
    "\n",
    "# Other settings for the notebook.\n",
    "smoke_test = \"SANDCASTLE_NEXUS\" in os.environ or \"CI\" in os.environ\n",
    "\n",
    "# Tool versions\n",
    "print(\"pytorch version: \", torch.__version__)\n",
    "print(\"gpytorch version: \", gpytorch.__version__)"
   ]
  },
  {
   "cell_type": "markdown",
   "metadata": {},
   "source": [
    "Let's use some simple cyclic data:"
   ]
  },
  {
   "cell_type": "code",
   "execution_count": 4,
   "metadata": {},
   "outputs": [
    {
     "data": {
      "image/png": "[encoded data removed]",
      "text/plain": [
       "<Figure size 432x288 with 1 Axes>"
      ]
     },
     "metadata": {
      "needs_background": "light"
     },
     "output_type": "display_data"
    }
   ],
   "source": [
    "x_train = torch.linspace(0, 1, 11)\n",
    "y_train = torch.sin(x_train * (2 * math.pi)) + torch.randn(x_train.shape) * 0.2\n",
    "x_test = torch.linspace(0, 1, 51).unsqueeze(-1)\n",
    "\n",
    "with torch.no_grad():\n",
    "    plt.scatter(x_train.numpy(), y_train.numpy())\n",
    "    plt.show()"
   ]
  },
  {
   "cell_type": "markdown",
   "metadata": {},
   "source": [
    "Since this data has a periodic trend to it, we will use a Periodic Kernel:\n",
    "\n",
    "$$\n",
    "k(x,x')=\\sigma^2\\exp\\Big(-\\frac{2}{\\ell}\\sin^2\\Big(\\pi\\frac{|x-x'|}{p}\\Big)\\Big)\n",
    "$$\n",
    "\n",
    "where $p$, $\\ell$, $\\sigma^2$ are the periodicity, length scale, and output scale of the\n",
    "function respectively, the (hyper)parameters of the kernel we want to learn."
   ]
  },
  {
   "cell_type": "markdown",
   "metadata": {},
   "source": [
    "## MAP Estimation (with GPyTorch)"
   ]
  },
  {
   "cell_type": "markdown",
   "metadata": {},
   "source": [
    "GPytorch's exact inference algorithms allow you to compute maximum a posteriori (MAP)\n",
    "estimates of kernel parameters. Since a `SimpleGP` extends a GPytorch ExactGP model, you\n",
    "can use GPytorch to optimize the model. Let's try that, closely following the\n",
    "[GPytorch regression tutorial](https://docs.gpytorch.ai/en/latest/examples/01_Exact_GPs/Simple_GP_Regression.html)."
   ]
  },
  {
   "cell_type": "code",
   "execution_count": 5,
   "metadata": {},
   "outputs": [],
   "source": [
    "class Regression(SimpleGP):\n",
    "    def __init__(self, x_train, y_train, mean, kernel, likelihood, *args, **kwargs):\n",
    "        super().__init__(x_train, y_train, mean, kernel, likelihood)\n",
    "\n",
    "    def forward(self, data, batch_shape=()):\n",
    "        \"\"\"\n",
    "        Computes the GP prior given data. This method should always\n",
    "        return a `torch.distributions.MultivariateNormal`\n",
    "        \"\"\"\n",
    "        shape = data.shape[len(batch_shape)]\n",
    "        jitter = torch.eye(shape, shape) * 1e-5\n",
    "        for _ in range(len(batch_shape)):\n",
    "            jitter = jitter.unsqueeze(0)\n",
    "        if isinstance(self.mean, gpytorch.means.Mean):\n",
    "            # demo using gpytorch for MAP estimation\n",
    "            mean = self.mean(data)\n",
    "        else:\n",
    "            # use Bean Machine for learning posteriors\n",
    "            if self.training:\n",
    "                mean = self.mean(batch_shape).expand(data.shape[len(batch_shape) :])\n",
    "            else:\n",
    "                mean = self.mean.expand(data.shape[:-1])  # overridden for evaluation\n",
    "        cov = self.kernel(data) + jitter\n",
    "        return MultivariateNormal(mean, cov)"
   ]
  },
  {
   "cell_type": "code",
   "execution_count": 6,
   "metadata": {},
   "outputs": [],
   "source": [
    "kernel = gpytorch.kernels.ScaleKernel(base_kernel=gpytorch.kernels.PeriodicKernel())\n",
    "likelihood = gpytorch.likelihoods.GaussianLikelihood()\n",
    "mean = gpytorch.means.ConstantMean()\n",
    "gp = Regression(x_train, y_train, mean, kernel, likelihood)"
   ]
  },
  {
   "cell_type": "code",
   "execution_count": 7,
   "metadata": {},
   "outputs": [
    {
     "name": "stdout",
     "output_type": "stream",
     "text": [
      "Iter 1/100 - Loss: 1.082\n",
      "Iter 11/100 - Loss: 0.504\n",
      "Iter 21/100 - Loss: 0.040\n",
      "Iter 31/100 - Loss: -0.385\n",
      "Iter 41/100 - Loss: -0.755\n",
      "Iter 51/100 - Loss: -0.939\n",
      "Iter 61/100 - Loss: -0.947\n",
      "Iter 71/100 - Loss: -0.966\n",
      "Iter 81/100 - Loss: -0.960\n",
      "Iter 91/100 - Loss: -0.954\n"
     ]
    }
   ],
   "source": [
    "optimizer = torch.optim.Adam(\n",
    "    gp.parameters(), lr=0.1\n",
    ")  # Includes GaussianLikelihood parameters\n",
    "mll = gpytorch.mlls.ExactMarginalLogLikelihood(likelihood, gp)\n",
    "gp.eval()  # this converts the BM model into a gpytorch model\n",
    "num_iters = 1 if smoke_test else 100\n",
    "\n",
    "for i in range(num_iters):\n",
    "    optimizer.zero_grad()\n",
    "    output = gp(x_train)\n",
    "    loss = -mll(output, y_train)\n",
    "    loss.backward()\n",
    "    if i % 10 == 0:\n",
    "        print(\n",
    "            \"Iter %d/%d - Loss: %.3f\"\n",
    "            % (\n",
    "                i + 1,\n",
    "                100,\n",
    "                loss.item(),\n",
    "            )\n",
    "        )\n",
    "    optimizer.step()"
   ]
  },
  {
   "cell_type": "code",
   "execution_count": 8,
   "metadata": {},
   "outputs": [
    {
     "data": {
      "image/png": "[encoded data removed]",
      "text/plain": [
       "<Figure size 288x216 with 1 Axes>"
      ]
     },
     "metadata": {
      "needs_background": "light"
     },
     "output_type": "display_data"
    }
   ],
   "source": [
    "with torch.no_grad():\n",
    "    observed_pred = likelihood(gp(x_test))\n",
    "    # Initialize plot\n",
    "    f, ax = plt.subplots(1, 1, figsize=(4, 3))\n",
    "\n",
    "    # Get upper and lower confidence bounds\n",
    "    lower, upper = observed_pred.confidence_region()\n",
    "    # Plot training data as black stars\n",
    "    ax.plot(x_train.numpy(), y_train.numpy(), \"k*\")\n",
    "    # Plot predictive means as blue line\n",
    "    ax.plot(x_test.squeeze().numpy(), observed_pred.mean.numpy(), \"b\")\n",
    "    # Shade between the lower and upper confidence bounds\n",
    "    ax.fill_between(x_test.squeeze().numpy(), lower.numpy(), upper.numpy(), alpha=0.5)\n",
    "    ax.set_ylim([-1, 1])\n",
    "    ax.legend([\"Observed Data\", \"Mean\", \"Confidence\"])"
   ]
  },
  {
   "cell_type": "markdown",
   "metadata": {},
   "source": [
    "Not bad! Our GP fits this simple function fairly well. However, we've only captured data\n",
    "uncertainty, not parameter uncertainty. It can often be the case that calibrating\n",
    "parameter uncertainty may lead to better predictive performance. In the next section,\n",
    "we'll do just that using Bean Machine's NUTS algorithm."
   ]
  },
  {
   "cell_type": "markdown",
   "metadata": {},
   "source": [
    "## Fully Bayesian Inference with Bean Machine"
   ]
  },
  {
   "cell_type": "markdown",
   "metadata": {},
   "source": [
    "Let's reuse the same model, but this time, use Bean Machine to learn posteriors over the\n",
    "parameters. In `train` mode, `SimpleGP` is a simple wrapper around\n",
    "`gpytorch.models.ExactGP` that lifts learnable parameters to BM random variables. Next,\n",
    "lets define our parameters $p$, $\\sigma^2$, and $\\ell$ in addition to mean and\n",
    "observation noise as random variables with the priors they are sampled from."
   ]
  },
  {
   "cell_type": "code",
   "execution_count": 9,
   "metadata": {},
   "outputs": [],
   "source": [
    "@bm.random_variable\n",
    "def outputscale():\n",
    "    return dist.Uniform(torch.tensor(1.0), torch.tensor(2.0))\n",
    "\n",
    "\n",
    "@bm.random_variable\n",
    "def lengthscale():\n",
    "    return dist.Uniform(torch.tensor([0.01]), torch.tensor([0.5]))\n",
    "\n",
    "\n",
    "@bm.random_variable\n",
    "def period_length():\n",
    "    return dist.Uniform(torch.tensor([0.05]), torch.tensor([2.5]))\n",
    "\n",
    "\n",
    "@bm.random_variable\n",
    "def noise():\n",
    "    return dist.Uniform(torch.tensor([0.05]), torch.tensor([0.3]))\n",
    "\n",
    "\n",
    "@bm.random_variable\n",
    "def mean(batch_shape=()):\n",
    "    batch_shape += (1,)\n",
    "    a = -1 * torch.ones(batch_shape)\n",
    "    b = torch.ones(batch_shape)\n",
    "    return dist.Uniform(a, b)"
   ]
  },
  {
   "cell_type": "markdown",
   "metadata": {},
   "source": [
    "Similarly, we'll create kernel and likelihood objects, this time passing our random\n",
    "variables as the hyperparameters. Note that the kernels are `beanmachine.kernels`\n",
    "instead of `gpytorch.kernels`."
   ]
  },
  {
   "cell_type": "code",
   "execution_count": 10,
   "metadata": {},
   "outputs": [],
   "source": [
    "kernel = bgp.kernels.ScaleKernel(\n",
    "    base_kernel=bgp.kernels.PeriodicKernel(\n",
    "        period_length_prior=period_length, lengthscale_prior=lengthscale\n",
    "    ),\n",
    "    outputscale_prior=outputscale,\n",
    ")\n",
    "likelihood = bgp.likelihoods.GaussianLikelihood(noise_prior=noise)\n",
    "\n",
    "gp = Regression(x_train, y_train, mean, kernel, likelihood)"
   ]
  },
  {
   "cell_type": "markdown",
   "metadata": {},
   "source": [
    "Now we can run inference as we would with any other Bean Machine model."
   ]
  },
  {
   "cell_type": "code",
   "execution_count": 11,
   "metadata": {},
   "outputs": [
    {
     "data": {
      "application/vnd.jupyter.widget-view+json": {
       "model_id": "f8e003bf113f492285ca0eb1a059813c",
       "version_major": 2,
       "version_minor": 0
      },
      "text/plain": [
       "Samples collected:   0%|          | 0/150 [00:00<?, ?it/s]"
      ]
     },
     "metadata": {},
     "output_type": "display_data"
    },
    {
     "data": {
      "application/vnd.jupyter.widget-view+json": {
       "model_id": "2c8203d8f1574dd9a7964174d057f428",
       "version_major": 2,
       "version_minor": 0
      },
      "text/plain": [
       "Samples collected:   0%|          | 0/150 [00:00<?, ?it/s]"
      ]
     },
     "metadata": {},
     "output_type": "display_data"
    }
   ],
   "source": [
    "num_samples = 1 if smoke_test else 100\n",
    "num_adaptive_samples = 0 if smoke_test else num_samples // 2\n",
    "num_chains = 1 if smoke_test else 2\n",
    "\n",
    "# bind the data to the forward call so it can be invoked in the likelihood\n",
    "queries = [mean(), lengthscale(), period_length(), outputscale(), noise()]\n",
    "gp_prior = partial(gp, x_train)\n",
    "obs = {gp.likelihood(gp_prior): y_train}\n",
    "\n",
    "nuts = bm.SingleSiteNoUTurnSampler()\n",
    "samples = nuts.infer(\n",
    "    queries=queries,\n",
    "    observations=obs,\n",
    "    num_samples=num_samples,\n",
    "    num_adaptive_samples=num_adaptive_samples,\n",
    "    num_chains=num_chains,\n",
    ")"
   ]
  },
  {
   "cell_type": "markdown",
   "metadata": {},
   "source": [
    "Let's take a look at how our model fit. We will plot the samples of our posterior as\n",
    "well as the predictives generated from our GP."
   ]
  },
  {
   "cell_type": "code",
   "execution_count": 12,
   "metadata": {},
   "outputs": [
    {
     "ename": "RuntimeError",
     "evalue": "Can't call numpy() on Tensor that requires grad. Use tensor.detach().numpy() instead.",
     "output_type": "error",
     "traceback": [
      "\u001b[0;31m---------------------------------------------------------------------------\u001b[0m",
      "\u001b[0;31mRuntimeError\u001b[0m                              Traceback (most recent call last)",
      "Input \u001b[0;32mIn [12]\u001b[0m, in \u001b[0;36m<cell line: 1>\u001b[0;34m()\u001b[0m\n\u001b[0;32m----> 1\u001b[0m summary_df \u001b[38;5;241m=\u001b[39m az\u001b[38;5;241m.\u001b[39msummary(\u001b[43msamples\u001b[49m\u001b[38;5;241;43m.\u001b[39;49m\u001b[43mto_xarray\u001b[49m\u001b[43m(\u001b[49m\u001b[43m)\u001b[49m)\n\u001b[1;32m      2\u001b[0m Markdown(summary_df\u001b[38;5;241m.\u001b[39mto_markdown())\n",
      "File \u001b[0;32m~/Development/professional/quansight/projects/bean-machine/code/beanmachine/src/beanmachine/ppl/inference/monte_carlo_samples.py:246\u001b[0m, in \u001b[0;36mMonteCarloSamples.to_xarray\u001b[0;34m(self, include_adapt_steps)\u001b[0m\n\u001b[1;32m    242\u001b[0m \u001b[38;5;28;01mdef\u001b[39;00m \u001b[38;5;21mto_xarray\u001b[39m(\u001b[38;5;28mself\u001b[39m, include_adapt_steps: \u001b[38;5;28mbool\u001b[39m \u001b[38;5;241m=\u001b[39m \u001b[38;5;28;01mFalse\u001b[39;00m) \u001b[38;5;241m-\u001b[39m\u001b[38;5;241m>\u001b[39m xr\u001b[38;5;241m.\u001b[39mDataset:\n\u001b[1;32m    243\u001b[0m     \u001b[38;5;124;03m\"\"\"\u001b[39;00m\n\u001b[1;32m    244\u001b[0m \u001b[38;5;124;03m    Return an xarray.Dataset from MonteCarloSamples.\u001b[39;00m\n\u001b[1;32m    245\u001b[0m \u001b[38;5;124;03m    \"\"\"\u001b[39;00m\n\u001b[0;32m--> 246\u001b[0m     inference_data \u001b[38;5;241m=\u001b[39m \u001b[38;5;28;43mself\u001b[39;49m\u001b[38;5;241;43m.\u001b[39;49m\u001b[43mto_inference_data\u001b[49m\u001b[43m(\u001b[49m\u001b[43minclude_adapt_steps\u001b[49m\u001b[43m)\u001b[49m\n\u001b[1;32m    247\u001b[0m     \u001b[38;5;28;01mif\u001b[39;00m \u001b[38;5;129;01mnot\u001b[39;00m include_adapt_steps:\n\u001b[1;32m    248\u001b[0m         \u001b[38;5;28;01mreturn\u001b[39;00m inference_data[\u001b[38;5;124m\"\u001b[39m\u001b[38;5;124mposterior\u001b[39m\u001b[38;5;124m\"\u001b[39m]\n",
      "File \u001b[0;32m~/Development/professional/quansight/projects/bean-machine/code/beanmachine/src/beanmachine/ppl/inference/monte_carlo_samples.py:306\u001b[0m, in \u001b[0;36mMonteCarloSamples.to_inference_data\u001b[0;34m(self, include_adapt_steps)\u001b[0m\n\u001b[1;32m    303\u001b[0m \u001b[38;5;28;01melse\u001b[39;00m:\n\u001b[1;32m    304\u001b[0m     prior_predictive \u001b[38;5;241m=\u001b[39m \u001b[38;5;28;01mNone\u001b[39;00m\n\u001b[0;32m--> 306\u001b[0m \u001b[38;5;28;01mreturn\u001b[39;00m \u001b[43maz\u001b[49m\u001b[38;5;241;43m.\u001b[39;49m\u001b[43mfrom_dict\u001b[49m\u001b[43m(\u001b[49m\n\u001b[1;32m    307\u001b[0m \u001b[43m    \u001b[49m\u001b[43mposterior\u001b[49m\u001b[38;5;241;43m=\u001b[39;49m\u001b[43mposterior\u001b[49m\u001b[43m,\u001b[49m\n\u001b[1;32m    308\u001b[0m \u001b[43m    \u001b[49m\u001b[43mwarmup_posterior\u001b[49m\u001b[38;5;241;43m=\u001b[39;49m\u001b[43mwarmup_posterior\u001b[49m\u001b[43m,\u001b[49m\n\u001b[1;32m    309\u001b[0m \u001b[43m    \u001b[49m\u001b[43mposterior_predictive\u001b[49m\u001b[38;5;241;43m=\u001b[39;49m\u001b[43mposterior_predictive\u001b[49m\u001b[43m,\u001b[49m\n\u001b[1;32m    310\u001b[0m \u001b[43m    \u001b[49m\u001b[43mwarmup_posterior_predictive\u001b[49m\u001b[38;5;241;43m=\u001b[39;49m\u001b[43mwarmup_posterior_predictive\u001b[49m\u001b[43m,\u001b[49m\n\u001b[1;32m    311\u001b[0m \u001b[43m    \u001b[49m\u001b[43mprior_predictive\u001b[49m\u001b[38;5;241;43m=\u001b[39;49m\u001b[43mprior_predictive\u001b[49m\u001b[43m,\u001b[49m\n\u001b[1;32m    312\u001b[0m \u001b[43m    \u001b[49m\u001b[43msave_warmup\u001b[49m\u001b[38;5;241;43m=\u001b[39;49m\u001b[43minclude_adapt_steps\u001b[49m\u001b[43m,\u001b[49m\n\u001b[1;32m    313\u001b[0m \u001b[43m    \u001b[49m\u001b[43mwarmup_log_likelihood\u001b[49m\u001b[38;5;241;43m=\u001b[39;49m\u001b[43mwarmup_log_likelihood\u001b[49m\u001b[43m,\u001b[49m\n\u001b[1;32m    314\u001b[0m \u001b[43m    \u001b[49m\u001b[43mlog_likelihood\u001b[49m\u001b[38;5;241;43m=\u001b[39;49m\u001b[38;5;28;43mself\u001b[39;49m\u001b[38;5;241;43m.\u001b[39;49m\u001b[43mlog_likelihoods\u001b[49m\u001b[43m,\u001b[49m\n\u001b[1;32m    315\u001b[0m \u001b[43m    \u001b[49m\u001b[43mobserved_data\u001b[49m\u001b[38;5;241;43m=\u001b[39;49m\u001b[38;5;28;43mself\u001b[39;49m\u001b[38;5;241;43m.\u001b[39;49m\u001b[43mobservations\u001b[49m\u001b[43m,\u001b[49m\n\u001b[1;32m    316\u001b[0m \u001b[43m\u001b[49m\u001b[43m)\u001b[49m\n",
      "File \u001b[0;32m~/miniconda3/envs/bean-machine/lib/python3.10/site-packages/arviz/data/io_dict.py:378\u001b[0m, in \u001b[0;36mfrom_dict\u001b[0;34m(posterior, posterior_predictive, predictions, sample_stats, log_likelihood, prior, prior_predictive, sample_stats_prior, observed_data, constant_data, predictions_constant_data, warmup_posterior, warmup_posterior_predictive, warmup_predictions, warmup_log_likelihood, warmup_sample_stats, save_warmup, coords, dims, pred_dims, pred_coords, attrs)\u001b[0m\n\u001b[1;32m    288\u001b[0m \u001b[38;5;28;01mdef\u001b[39;00m \u001b[38;5;21mfrom_dict\u001b[39m(\n\u001b[1;32m    289\u001b[0m     posterior\u001b[38;5;241m=\u001b[39m\u001b[38;5;28;01mNone\u001b[39;00m,\n\u001b[1;32m    290\u001b[0m     \u001b[38;5;241m*\u001b[39m,\n\u001b[0;32m   (...)\u001b[0m\n\u001b[1;32m    311\u001b[0m     attrs\u001b[38;5;241m=\u001b[39m\u001b[38;5;28;01mNone\u001b[39;00m,\n\u001b[1;32m    312\u001b[0m ):\n\u001b[1;32m    313\u001b[0m     \u001b[38;5;124;03m\"\"\"Convert Dictionary data into an InferenceData object.\u001b[39;00m\n\u001b[1;32m    314\u001b[0m \n\u001b[1;32m    315\u001b[0m \u001b[38;5;124;03m    For a usage example read the\u001b[39;00m\n\u001b[0;32m   (...)\u001b[0m\n\u001b[1;32m    353\u001b[0m \u001b[38;5;124;03m    InferenceData object\u001b[39;00m\n\u001b[1;32m    354\u001b[0m \u001b[38;5;124;03m    \"\"\"\u001b[39;00m\n\u001b[1;32m    355\u001b[0m     \u001b[38;5;28;01mreturn\u001b[39;00m \u001b[43mDictConverter\u001b[49m\u001b[43m(\u001b[49m\n\u001b[1;32m    356\u001b[0m \u001b[43m        \u001b[49m\u001b[43mposterior\u001b[49m\u001b[38;5;241;43m=\u001b[39;49m\u001b[43mposterior\u001b[49m\u001b[43m,\u001b[49m\n\u001b[1;32m    357\u001b[0m \u001b[43m        \u001b[49m\u001b[43mposterior_predictive\u001b[49m\u001b[38;5;241;43m=\u001b[39;49m\u001b[43mposterior_predictive\u001b[49m\u001b[43m,\u001b[49m\n\u001b[1;32m    358\u001b[0m \u001b[43m        \u001b[49m\u001b[43mpredictions\u001b[49m\u001b[38;5;241;43m=\u001b[39;49m\u001b[43mpredictions\u001b[49m\u001b[43m,\u001b[49m\n\u001b[1;32m    359\u001b[0m \u001b[43m        \u001b[49m\u001b[43msample_stats\u001b[49m\u001b[38;5;241;43m=\u001b[39;49m\u001b[43msample_stats\u001b[49m\u001b[43m,\u001b[49m\n\u001b[1;32m    360\u001b[0m \u001b[43m        \u001b[49m\u001b[43mlog_likelihood\u001b[49m\u001b[38;5;241;43m=\u001b[39;49m\u001b[43mlog_likelihood\u001b[49m\u001b[43m,\u001b[49m\n\u001b[1;32m    361\u001b[0m \u001b[43m        \u001b[49m\u001b[43mprior\u001b[49m\u001b[38;5;241;43m=\u001b[39;49m\u001b[43mprior\u001b[49m\u001b[43m,\u001b[49m\n\u001b[1;32m    362\u001b[0m \u001b[43m        \u001b[49m\u001b[43mprior_predictive\u001b[49m\u001b[38;5;241;43m=\u001b[39;49m\u001b[43mprior_predictive\u001b[49m\u001b[43m,\u001b[49m\n\u001b[1;32m    363\u001b[0m \u001b[43m        \u001b[49m\u001b[43msample_stats_prior\u001b[49m\u001b[38;5;241;43m=\u001b[39;49m\u001b[43msample_stats_prior\u001b[49m\u001b[43m,\u001b[49m\n\u001b[1;32m    364\u001b[0m \u001b[43m        \u001b[49m\u001b[43mobserved_data\u001b[49m\u001b[38;5;241;43m=\u001b[39;49m\u001b[43mobserved_data\u001b[49m\u001b[43m,\u001b[49m\n\u001b[1;32m    365\u001b[0m \u001b[43m        \u001b[49m\u001b[43mconstant_data\u001b[49m\u001b[38;5;241;43m=\u001b[39;49m\u001b[43mconstant_data\u001b[49m\u001b[43m,\u001b[49m\n\u001b[1;32m    366\u001b[0m \u001b[43m        \u001b[49m\u001b[43mpredictions_constant_data\u001b[49m\u001b[38;5;241;43m=\u001b[39;49m\u001b[43mpredictions_constant_data\u001b[49m\u001b[43m,\u001b[49m\n\u001b[1;32m    367\u001b[0m \u001b[43m        \u001b[49m\u001b[43mwarmup_posterior\u001b[49m\u001b[38;5;241;43m=\u001b[39;49m\u001b[43mwarmup_posterior\u001b[49m\u001b[43m,\u001b[49m\n\u001b[1;32m    368\u001b[0m \u001b[43m        \u001b[49m\u001b[43mwarmup_posterior_predictive\u001b[49m\u001b[38;5;241;43m=\u001b[39;49m\u001b[43mwarmup_posterior_predictive\u001b[49m\u001b[43m,\u001b[49m\n\u001b[1;32m    369\u001b[0m \u001b[43m        \u001b[49m\u001b[43mwarmup_predictions\u001b[49m\u001b[38;5;241;43m=\u001b[39;49m\u001b[43mwarmup_predictions\u001b[49m\u001b[43m,\u001b[49m\n\u001b[1;32m    370\u001b[0m \u001b[43m        \u001b[49m\u001b[43mwarmup_log_likelihood\u001b[49m\u001b[38;5;241;43m=\u001b[39;49m\u001b[43mwarmup_log_likelihood\u001b[49m\u001b[43m,\u001b[49m\n\u001b[1;32m    371\u001b[0m \u001b[43m        \u001b[49m\u001b[43mwarmup_sample_stats\u001b[49m\u001b[38;5;241;43m=\u001b[39;49m\u001b[43mwarmup_sample_stats\u001b[49m\u001b[43m,\u001b[49m\n\u001b[1;32m    372\u001b[0m \u001b[43m        \u001b[49m\u001b[43msave_warmup\u001b[49m\u001b[38;5;241;43m=\u001b[39;49m\u001b[43msave_warmup\u001b[49m\u001b[43m,\u001b[49m\n\u001b[1;32m    373\u001b[0m \u001b[43m        \u001b[49m\u001b[43mcoords\u001b[49m\u001b[38;5;241;43m=\u001b[39;49m\u001b[43mcoords\u001b[49m\u001b[43m,\u001b[49m\n\u001b[1;32m    374\u001b[0m \u001b[43m        \u001b[49m\u001b[43mdims\u001b[49m\u001b[38;5;241;43m=\u001b[39;49m\u001b[43mdims\u001b[49m\u001b[43m,\u001b[49m\n\u001b[1;32m    375\u001b[0m \u001b[43m        \u001b[49m\u001b[43mpred_dims\u001b[49m\u001b[38;5;241;43m=\u001b[39;49m\u001b[43mpred_dims\u001b[49m\u001b[43m,\u001b[49m\n\u001b[1;32m    376\u001b[0m \u001b[43m        \u001b[49m\u001b[43mpred_coords\u001b[49m\u001b[38;5;241;43m=\u001b[39;49m\u001b[43mpred_coords\u001b[49m\u001b[43m,\u001b[49m\n\u001b[1;32m    377\u001b[0m \u001b[43m        \u001b[49m\u001b[43mattrs\u001b[49m\u001b[38;5;241;43m=\u001b[39;49m\u001b[43mattrs\u001b[49m\u001b[43m,\u001b[49m\n\u001b[0;32m--> 378\u001b[0m \u001b[43m    \u001b[49m\u001b[43m)\u001b[49m\u001b[38;5;241;43m.\u001b[39;49m\u001b[43mto_inference_data\u001b[49m\u001b[43m(\u001b[49m\u001b[43m)\u001b[49m\n",
      "File \u001b[0;32m~/miniconda3/envs/bean-machine/lib/python3.10/site-packages/arviz/data/io_dict.py:273\u001b[0m, in \u001b[0;36mDictConverter.to_inference_data\u001b[0;34m(self)\u001b[0m\n\u001b[1;32m    263\u001b[0m \u001b[38;5;28;01mdef\u001b[39;00m \u001b[38;5;21mto_inference_data\u001b[39m(\u001b[38;5;28mself\u001b[39m):\n\u001b[1;32m    264\u001b[0m     \u001b[38;5;124;03m\"\"\"Convert all available data to an InferenceData object.\u001b[39;00m\n\u001b[1;32m    265\u001b[0m \n\u001b[1;32m    266\u001b[0m \u001b[38;5;124;03m    Note that if groups can not be created, then the InferenceData\u001b[39;00m\n\u001b[1;32m    267\u001b[0m \u001b[38;5;124;03m    will not have those groups.\u001b[39;00m\n\u001b[1;32m    268\u001b[0m \u001b[38;5;124;03m    \"\"\"\u001b[39;00m\n\u001b[1;32m    269\u001b[0m     \u001b[38;5;28;01mreturn\u001b[39;00m InferenceData(\n\u001b[1;32m    270\u001b[0m         \u001b[38;5;241m*\u001b[39m\u001b[38;5;241m*\u001b[39m{\n\u001b[1;32m    271\u001b[0m             \u001b[38;5;124m\"\u001b[39m\u001b[38;5;124mposterior\u001b[39m\u001b[38;5;124m\"\u001b[39m: \u001b[38;5;28mself\u001b[39m\u001b[38;5;241m.\u001b[39mposterior_to_xarray(),\n\u001b[1;32m    272\u001b[0m             \u001b[38;5;124m\"\u001b[39m\u001b[38;5;124msample_stats\u001b[39m\u001b[38;5;124m\"\u001b[39m: \u001b[38;5;28mself\u001b[39m\u001b[38;5;241m.\u001b[39msample_stats_to_xarray(),\n\u001b[0;32m--> 273\u001b[0m             \u001b[38;5;124m\"\u001b[39m\u001b[38;5;124mlog_likelihood\u001b[39m\u001b[38;5;124m\"\u001b[39m: \u001b[38;5;28;43mself\u001b[39;49m\u001b[38;5;241;43m.\u001b[39;49m\u001b[43mlog_likelihood_to_xarray\u001b[49m\u001b[43m(\u001b[49m\u001b[43m)\u001b[49m,\n\u001b[1;32m    274\u001b[0m             \u001b[38;5;124m\"\u001b[39m\u001b[38;5;124mposterior_predictive\u001b[39m\u001b[38;5;124m\"\u001b[39m: \u001b[38;5;28mself\u001b[39m\u001b[38;5;241m.\u001b[39mposterior_predictive_to_xarray(),\n\u001b[1;32m    275\u001b[0m             \u001b[38;5;124m\"\u001b[39m\u001b[38;5;124mpredictions\u001b[39m\u001b[38;5;124m\"\u001b[39m: \u001b[38;5;28mself\u001b[39m\u001b[38;5;241m.\u001b[39mpredictions_to_xarray(),\n\u001b[1;32m    276\u001b[0m             \u001b[38;5;124m\"\u001b[39m\u001b[38;5;124mprior\u001b[39m\u001b[38;5;124m\"\u001b[39m: \u001b[38;5;28mself\u001b[39m\u001b[38;5;241m.\u001b[39mprior_to_xarray(),\n\u001b[1;32m    277\u001b[0m             \u001b[38;5;124m\"\u001b[39m\u001b[38;5;124msample_stats_prior\u001b[39m\u001b[38;5;124m\"\u001b[39m: \u001b[38;5;28mself\u001b[39m\u001b[38;5;241m.\u001b[39msample_stats_prior_to_xarray(),\n\u001b[1;32m    278\u001b[0m             \u001b[38;5;124m\"\u001b[39m\u001b[38;5;124mprior_predictive\u001b[39m\u001b[38;5;124m\"\u001b[39m: \u001b[38;5;28mself\u001b[39m\u001b[38;5;241m.\u001b[39mprior_predictive_to_xarray(),\n\u001b[1;32m    279\u001b[0m             \u001b[38;5;124m\"\u001b[39m\u001b[38;5;124mobserved_data\u001b[39m\u001b[38;5;124m\"\u001b[39m: \u001b[38;5;28mself\u001b[39m\u001b[38;5;241m.\u001b[39mobserved_data_to_xarray(),\n\u001b[1;32m    280\u001b[0m             \u001b[38;5;124m\"\u001b[39m\u001b[38;5;124mconstant_data\u001b[39m\u001b[38;5;124m\"\u001b[39m: \u001b[38;5;28mself\u001b[39m\u001b[38;5;241m.\u001b[39mconstant_data_to_xarray(),\n\u001b[1;32m    281\u001b[0m             \u001b[38;5;124m\"\u001b[39m\u001b[38;5;124mpredictions_constant_data\u001b[39m\u001b[38;5;124m\"\u001b[39m: \u001b[38;5;28mself\u001b[39m\u001b[38;5;241m.\u001b[39mpredictions_constant_data_to_xarray(),\n\u001b[1;32m    282\u001b[0m             \u001b[38;5;124m\"\u001b[39m\u001b[38;5;124msave_warmup\u001b[39m\u001b[38;5;124m\"\u001b[39m: \u001b[38;5;28mself\u001b[39m\u001b[38;5;241m.\u001b[39msave_warmup,\n\u001b[1;32m    283\u001b[0m         }\n\u001b[1;32m    284\u001b[0m     )\n",
      "File \u001b[0;32m~/miniconda3/envs/bean-machine/lib/python3.10/site-packages/arviz/data/base.py:46\u001b[0m, in \u001b[0;36mrequires.__call__.<locals>.wrapped\u001b[0;34m(cls, *args, **kwargs)\u001b[0m\n\u001b[1;32m     44\u001b[0m     \u001b[38;5;28;01mif\u001b[39;00m \u001b[38;5;28mall\u001b[39m([\u001b[38;5;28mgetattr\u001b[39m(\u001b[38;5;28mcls\u001b[39m, prop_i) \u001b[38;5;129;01mis\u001b[39;00m \u001b[38;5;28;01mNone\u001b[39;00m \u001b[38;5;28;01mfor\u001b[39;00m prop_i \u001b[38;5;129;01min\u001b[39;00m prop]):\n\u001b[1;32m     45\u001b[0m         \u001b[38;5;28;01mreturn\u001b[39;00m \u001b[38;5;28;01mNone\u001b[39;00m\n\u001b[0;32m---> 46\u001b[0m \u001b[38;5;28;01mreturn\u001b[39;00m \u001b[43mfunc\u001b[49m\u001b[43m(\u001b[49m\u001b[38;5;28;43mcls\u001b[39;49m\u001b[43m,\u001b[49m\u001b[43m \u001b[49m\u001b[38;5;241;43m*\u001b[39;49m\u001b[43margs\u001b[49m\u001b[43m,\u001b[49m\u001b[43m \u001b[49m\u001b[38;5;241;43m*\u001b[39;49m\u001b[38;5;241;43m*\u001b[39;49m\u001b[43mkwargs\u001b[49m\u001b[43m)\u001b[49m\n",
      "File \u001b[0;32m~/miniconda3/envs/bean-machine/lib/python3.10/site-packages/arviz/data/io_dict.py:140\u001b[0m, in \u001b[0;36mDictConverter.log_likelihood_to_xarray\u001b[0;34m(self)\u001b[0m\n\u001b[1;32m    136\u001b[0m \u001b[38;5;28;01mif\u001b[39;00m \u001b[38;5;129;01mnot\u001b[39;00m \u001b[38;5;28misinstance\u001b[39m(data_warmup, \u001b[38;5;28mdict\u001b[39m):\n\u001b[1;32m    137\u001b[0m     \u001b[38;5;28;01mraise\u001b[39;00m \u001b[38;5;167;01mTypeError\u001b[39;00m(\u001b[38;5;124m\"\u001b[39m\u001b[38;5;124mDictConverter.warmup_log_likelihood is not a dictionary\u001b[39m\u001b[38;5;124m\"\u001b[39m)\n\u001b[1;32m    139\u001b[0m \u001b[38;5;28;01mreturn\u001b[39;00m (\n\u001b[0;32m--> 140\u001b[0m     \u001b[43mdict_to_dataset\u001b[49m\u001b[43m(\u001b[49m\n\u001b[1;32m    141\u001b[0m \u001b[43m        \u001b[49m\u001b[43mdata\u001b[49m\u001b[43m,\u001b[49m\n\u001b[1;32m    142\u001b[0m \u001b[43m        \u001b[49m\u001b[43mlibrary\u001b[49m\u001b[38;5;241;43m=\u001b[39;49m\u001b[38;5;28;43;01mNone\u001b[39;49;00m\u001b[43m,\u001b[49m\n\u001b[1;32m    143\u001b[0m \u001b[43m        \u001b[49m\u001b[43mcoords\u001b[49m\u001b[38;5;241;43m=\u001b[39;49m\u001b[38;5;28;43mself\u001b[39;49m\u001b[38;5;241;43m.\u001b[39;49m\u001b[43mcoords\u001b[49m\u001b[43m,\u001b[49m\n\u001b[1;32m    144\u001b[0m \u001b[43m        \u001b[49m\u001b[43mdims\u001b[49m\u001b[38;5;241;43m=\u001b[39;49m\u001b[38;5;28;43mself\u001b[39;49m\u001b[38;5;241;43m.\u001b[39;49m\u001b[43mdims\u001b[49m\u001b[43m,\u001b[49m\n\u001b[1;32m    145\u001b[0m \u001b[43m        \u001b[49m\u001b[43mattrs\u001b[49m\u001b[38;5;241;43m=\u001b[39;49m\u001b[38;5;28;43mself\u001b[39;49m\u001b[38;5;241;43m.\u001b[39;49m\u001b[43mattrs\u001b[49m\u001b[43m,\u001b[49m\n\u001b[1;32m    146\u001b[0m \u001b[43m        \u001b[49m\u001b[43mskip_event_dims\u001b[49m\u001b[38;5;241;43m=\u001b[39;49m\u001b[38;5;28;43;01mTrue\u001b[39;49;00m\u001b[43m,\u001b[49m\n\u001b[1;32m    147\u001b[0m \u001b[43m    \u001b[49m\u001b[43m)\u001b[49m,\n\u001b[1;32m    148\u001b[0m     dict_to_dataset(\n\u001b[1;32m    149\u001b[0m         data_warmup,\n\u001b[1;32m    150\u001b[0m         library\u001b[38;5;241m=\u001b[39m\u001b[38;5;28;01mNone\u001b[39;00m,\n\u001b[1;32m    151\u001b[0m         coords\u001b[38;5;241m=\u001b[39m\u001b[38;5;28mself\u001b[39m\u001b[38;5;241m.\u001b[39mcoords,\n\u001b[1;32m    152\u001b[0m         dims\u001b[38;5;241m=\u001b[39m\u001b[38;5;28mself\u001b[39m\u001b[38;5;241m.\u001b[39mdims,\n\u001b[1;32m    153\u001b[0m         attrs\u001b[38;5;241m=\u001b[39m\u001b[38;5;28mself\u001b[39m\u001b[38;5;241m.\u001b[39mattrs,\n\u001b[1;32m    154\u001b[0m         skip_event_dims\u001b[38;5;241m=\u001b[39m\u001b[38;5;28;01mTrue\u001b[39;00m,\n\u001b[1;32m    155\u001b[0m     ),\n\u001b[1;32m    156\u001b[0m )\n",
      "File \u001b[0;32m~/miniconda3/envs/bean-machine/lib/python3.10/site-packages/arviz/data/base.py:240\u001b[0m, in \u001b[0;36mdict_to_dataset\u001b[0;34m(data, attrs, library, coords, dims, skip_event_dims)\u001b[0m\n\u001b[1;32m    238\u001b[0m data_vars \u001b[38;5;241m=\u001b[39m {}\n\u001b[1;32m    239\u001b[0m \u001b[38;5;28;01mfor\u001b[39;00m key, values \u001b[38;5;129;01min\u001b[39;00m data\u001b[38;5;241m.\u001b[39mitems():\n\u001b[0;32m--> 240\u001b[0m     data_vars[key] \u001b[38;5;241m=\u001b[39m \u001b[43mnumpy_to_data_array\u001b[49m\u001b[43m(\u001b[49m\n\u001b[1;32m    241\u001b[0m \u001b[43m        \u001b[49m\u001b[43mvalues\u001b[49m\u001b[43m,\u001b[49m\u001b[43m \u001b[49m\u001b[43mvar_name\u001b[49m\u001b[38;5;241;43m=\u001b[39;49m\u001b[43mkey\u001b[49m\u001b[43m,\u001b[49m\u001b[43m \u001b[49m\u001b[43mcoords\u001b[49m\u001b[38;5;241;43m=\u001b[39;49m\u001b[43mcoords\u001b[49m\u001b[43m,\u001b[49m\u001b[43m \u001b[49m\u001b[43mdims\u001b[49m\u001b[38;5;241;43m=\u001b[39;49m\u001b[43mdims\u001b[49m\u001b[38;5;241;43m.\u001b[39;49m\u001b[43mget\u001b[49m\u001b[43m(\u001b[49m\u001b[43mkey\u001b[49m\u001b[43m)\u001b[49m\u001b[43m,\u001b[49m\u001b[43m \u001b[49m\u001b[43mskip_event_dims\u001b[49m\u001b[38;5;241;43m=\u001b[39;49m\u001b[43mskip_event_dims\u001b[49m\n\u001b[1;32m    242\u001b[0m \u001b[43m    \u001b[49m\u001b[43m)\u001b[49m\n\u001b[1;32m    243\u001b[0m \u001b[38;5;28;01mreturn\u001b[39;00m xr\u001b[38;5;241m.\u001b[39mDataset(data_vars\u001b[38;5;241m=\u001b[39mdata_vars, attrs\u001b[38;5;241m=\u001b[39mmake_attrs(attrs\u001b[38;5;241m=\u001b[39mattrs, library\u001b[38;5;241m=\u001b[39mlibrary))\n",
      "File \u001b[0;32m~/miniconda3/envs/bean-machine/lib/python3.10/site-packages/arviz/data/base.py:166\u001b[0m, in \u001b[0;36mnumpy_to_data_array\u001b[0;34m(ary, var_name, coords, dims, skip_event_dims)\u001b[0m\n\u001b[1;32m    164\u001b[0m \u001b[38;5;66;03m# manage and transform copies\u001b[39;00m\n\u001b[1;32m    165\u001b[0m default_dims \u001b[38;5;241m=\u001b[39m [\u001b[38;5;124m\"\u001b[39m\u001b[38;5;124mchain\u001b[39m\u001b[38;5;124m\"\u001b[39m, \u001b[38;5;124m\"\u001b[39m\u001b[38;5;124mdraw\u001b[39m\u001b[38;5;124m\"\u001b[39m]\n\u001b[0;32m--> 166\u001b[0m ary \u001b[38;5;241m=\u001b[39m \u001b[43mutils\u001b[49m\u001b[38;5;241;43m.\u001b[39;49m\u001b[43mtwo_de\u001b[49m\u001b[43m(\u001b[49m\u001b[43mary\u001b[49m\u001b[43m)\u001b[49m\n\u001b[1;32m    167\u001b[0m n_chains, n_samples, \u001b[38;5;241m*\u001b[39mshape \u001b[38;5;241m=\u001b[39m ary\u001b[38;5;241m.\u001b[39mshape\n\u001b[1;32m    168\u001b[0m \u001b[38;5;28;01mif\u001b[39;00m n_chains \u001b[38;5;241m>\u001b[39m n_samples:\n",
      "File \u001b[0;32m~/miniconda3/envs/bean-machine/lib/python3.10/site-packages/arviz/utils.py:379\u001b[0m, in \u001b[0;36mtwo_de\u001b[0;34m(x)\u001b[0m\n\u001b[1;32m    377\u001b[0m \u001b[38;5;124;03m\"\"\"Jitting numpy at_least_2d.\"\"\"\u001b[39;00m\n\u001b[1;32m    378\u001b[0m \u001b[38;5;28;01mif\u001b[39;00m \u001b[38;5;129;01mnot\u001b[39;00m \u001b[38;5;28misinstance\u001b[39m(x, np\u001b[38;5;241m.\u001b[39mndarray):\n\u001b[0;32m--> 379\u001b[0m     \u001b[38;5;28;01mreturn\u001b[39;00m \u001b[43mnp\u001b[49m\u001b[38;5;241;43m.\u001b[39;49m\u001b[43matleast_2d\u001b[49m\u001b[43m(\u001b[49m\u001b[43mx\u001b[49m\u001b[43m)\u001b[49m\n\u001b[1;32m    380\u001b[0m \u001b[38;5;28;01mif\u001b[39;00m x\u001b[38;5;241m.\u001b[39mndim \u001b[38;5;241m==\u001b[39m \u001b[38;5;241m0\u001b[39m:\n\u001b[1;32m    381\u001b[0m     result \u001b[38;5;241m=\u001b[39m x\u001b[38;5;241m.\u001b[39mreshape(\u001b[38;5;241m1\u001b[39m, \u001b[38;5;241m1\u001b[39m)\n",
      "File \u001b[0;32m<__array_function__ internals>:180\u001b[0m, in \u001b[0;36matleast_2d\u001b[0;34m(*args, **kwargs)\u001b[0m\n",
      "File \u001b[0;32m~/miniconda3/envs/bean-machine/lib/python3.10/site-packages/numpy/core/shape_base.py:121\u001b[0m, in \u001b[0;36matleast_2d\u001b[0;34m(*arys)\u001b[0m\n\u001b[1;32m    119\u001b[0m res \u001b[38;5;241m=\u001b[39m []\n\u001b[1;32m    120\u001b[0m \u001b[38;5;28;01mfor\u001b[39;00m ary \u001b[38;5;129;01min\u001b[39;00m arys:\n\u001b[0;32m--> 121\u001b[0m     ary \u001b[38;5;241m=\u001b[39m \u001b[43masanyarray\u001b[49m\u001b[43m(\u001b[49m\u001b[43mary\u001b[49m\u001b[43m)\u001b[49m\n\u001b[1;32m    122\u001b[0m     \u001b[38;5;28;01mif\u001b[39;00m ary\u001b[38;5;241m.\u001b[39mndim \u001b[38;5;241m==\u001b[39m \u001b[38;5;241m0\u001b[39m:\n\u001b[1;32m    123\u001b[0m         result \u001b[38;5;241m=\u001b[39m ary\u001b[38;5;241m.\u001b[39mreshape(\u001b[38;5;241m1\u001b[39m, \u001b[38;5;241m1\u001b[39m)\n",
      "File \u001b[0;32m~/miniconda3/envs/bean-machine/lib/python3.10/site-packages/torch/_tensor.py:732\u001b[0m, in \u001b[0;36mTensor.__array__\u001b[0;34m(self, dtype)\u001b[0m\n\u001b[1;32m    730\u001b[0m     \u001b[38;5;28;01mreturn\u001b[39;00m handle_torch_function(Tensor\u001b[38;5;241m.\u001b[39m__array__, (\u001b[38;5;28mself\u001b[39m,), \u001b[38;5;28mself\u001b[39m, dtype\u001b[38;5;241m=\u001b[39mdtype)\n\u001b[1;32m    731\u001b[0m \u001b[38;5;28;01mif\u001b[39;00m dtype \u001b[38;5;129;01mis\u001b[39;00m \u001b[38;5;28;01mNone\u001b[39;00m:\n\u001b[0;32m--> 732\u001b[0m     \u001b[38;5;28;01mreturn\u001b[39;00m \u001b[38;5;28;43mself\u001b[39;49m\u001b[38;5;241;43m.\u001b[39;49m\u001b[43mnumpy\u001b[49m\u001b[43m(\u001b[49m\u001b[43m)\u001b[49m\n\u001b[1;32m    733\u001b[0m \u001b[38;5;28;01melse\u001b[39;00m:\n\u001b[1;32m    734\u001b[0m     \u001b[38;5;28;01mreturn\u001b[39;00m \u001b[38;5;28mself\u001b[39m\u001b[38;5;241m.\u001b[39mnumpy()\u001b[38;5;241m.\u001b[39mastype(dtype, copy\u001b[38;5;241m=\u001b[39m\u001b[38;5;28;01mFalse\u001b[39;00m)\n",
      "\u001b[0;31mRuntimeError\u001b[0m: Can't call numpy() on Tensor that requires grad. Use tensor.detach().numpy() instead."
     ]
    }
   ],
   "source": [
    "summary_df = az.summary(samples.to_xarray())\n",
    "Markdown(summary_df.to_markdown())"
   ]
  },
  {
   "cell_type": "code",
   "execution_count": 13,
   "metadata": {},
   "outputs": [
    {
     "ename": "RuntimeError",
     "evalue": "Can't call numpy() on Tensor that requires grad. Use tensor.detach().numpy() instead.",
     "output_type": "error",
     "traceback": [
      "\u001b[0;31m---------------------------------------------------------------------------\u001b[0m",
      "\u001b[0;31mRuntimeError\u001b[0m                              Traceback (most recent call last)",
      "Input \u001b[0;32mIn [13]\u001b[0m, in \u001b[0;36m<cell line: 1>\u001b[0;34m()\u001b[0m\n\u001b[0;32m----> 1\u001b[0m summary_df \u001b[38;5;241m=\u001b[39m az\u001b[38;5;241m.\u001b[39msummary(\u001b[43msamples\u001b[49m\u001b[38;5;241;43m.\u001b[39;49m\u001b[43mto_inference_data\u001b[49m\u001b[43m(\u001b[49m\u001b[43m)\u001b[49m)\n\u001b[1;32m      2\u001b[0m Markdown(summary_df\u001b[38;5;241m.\u001b[39mto_markdown())\n",
      "File \u001b[0;32m~/Development/professional/quansight/projects/bean-machine/code/beanmachine/src/beanmachine/ppl/inference/monte_carlo_samples.py:306\u001b[0m, in \u001b[0;36mMonteCarloSamples.to_inference_data\u001b[0;34m(self, include_adapt_steps)\u001b[0m\n\u001b[1;32m    303\u001b[0m \u001b[38;5;28;01melse\u001b[39;00m:\n\u001b[1;32m    304\u001b[0m     prior_predictive \u001b[38;5;241m=\u001b[39m \u001b[38;5;28;01mNone\u001b[39;00m\n\u001b[0;32m--> 306\u001b[0m \u001b[38;5;28;01mreturn\u001b[39;00m \u001b[43maz\u001b[49m\u001b[38;5;241;43m.\u001b[39;49m\u001b[43mfrom_dict\u001b[49m\u001b[43m(\u001b[49m\n\u001b[1;32m    307\u001b[0m \u001b[43m    \u001b[49m\u001b[43mposterior\u001b[49m\u001b[38;5;241;43m=\u001b[39;49m\u001b[43mposterior\u001b[49m\u001b[43m,\u001b[49m\n\u001b[1;32m    308\u001b[0m \u001b[43m    \u001b[49m\u001b[43mwarmup_posterior\u001b[49m\u001b[38;5;241;43m=\u001b[39;49m\u001b[43mwarmup_posterior\u001b[49m\u001b[43m,\u001b[49m\n\u001b[1;32m    309\u001b[0m \u001b[43m    \u001b[49m\u001b[43mposterior_predictive\u001b[49m\u001b[38;5;241;43m=\u001b[39;49m\u001b[43mposterior_predictive\u001b[49m\u001b[43m,\u001b[49m\n\u001b[1;32m    310\u001b[0m \u001b[43m    \u001b[49m\u001b[43mwarmup_posterior_predictive\u001b[49m\u001b[38;5;241;43m=\u001b[39;49m\u001b[43mwarmup_posterior_predictive\u001b[49m\u001b[43m,\u001b[49m\n\u001b[1;32m    311\u001b[0m \u001b[43m    \u001b[49m\u001b[43mprior_predictive\u001b[49m\u001b[38;5;241;43m=\u001b[39;49m\u001b[43mprior_predictive\u001b[49m\u001b[43m,\u001b[49m\n\u001b[1;32m    312\u001b[0m \u001b[43m    \u001b[49m\u001b[43msave_warmup\u001b[49m\u001b[38;5;241;43m=\u001b[39;49m\u001b[43minclude_adapt_steps\u001b[49m\u001b[43m,\u001b[49m\n\u001b[1;32m    313\u001b[0m \u001b[43m    \u001b[49m\u001b[43mwarmup_log_likelihood\u001b[49m\u001b[38;5;241;43m=\u001b[39;49m\u001b[43mwarmup_log_likelihood\u001b[49m\u001b[43m,\u001b[49m\n\u001b[1;32m    314\u001b[0m \u001b[43m    \u001b[49m\u001b[43mlog_likelihood\u001b[49m\u001b[38;5;241;43m=\u001b[39;49m\u001b[38;5;28;43mself\u001b[39;49m\u001b[38;5;241;43m.\u001b[39;49m\u001b[43mlog_likelihoods\u001b[49m\u001b[43m,\u001b[49m\n\u001b[1;32m    315\u001b[0m \u001b[43m    \u001b[49m\u001b[43mobserved_data\u001b[49m\u001b[38;5;241;43m=\u001b[39;49m\u001b[38;5;28;43mself\u001b[39;49m\u001b[38;5;241;43m.\u001b[39;49m\u001b[43mobservations\u001b[49m\u001b[43m,\u001b[49m\n\u001b[1;32m    316\u001b[0m \u001b[43m\u001b[49m\u001b[43m)\u001b[49m\n",
      "File \u001b[0;32m~/miniconda3/envs/bean-machine/lib/python3.10/site-packages/arviz/data/io_dict.py:378\u001b[0m, in \u001b[0;36mfrom_dict\u001b[0;34m(posterior, posterior_predictive, predictions, sample_stats, log_likelihood, prior, prior_predictive, sample_stats_prior, observed_data, constant_data, predictions_constant_data, warmup_posterior, warmup_posterior_predictive, warmup_predictions, warmup_log_likelihood, warmup_sample_stats, save_warmup, coords, dims, pred_dims, pred_coords, attrs)\u001b[0m\n\u001b[1;32m    288\u001b[0m \u001b[38;5;28;01mdef\u001b[39;00m \u001b[38;5;21mfrom_dict\u001b[39m(\n\u001b[1;32m    289\u001b[0m     posterior\u001b[38;5;241m=\u001b[39m\u001b[38;5;28;01mNone\u001b[39;00m,\n\u001b[1;32m    290\u001b[0m     \u001b[38;5;241m*\u001b[39m,\n\u001b[0;32m   (...)\u001b[0m\n\u001b[1;32m    311\u001b[0m     attrs\u001b[38;5;241m=\u001b[39m\u001b[38;5;28;01mNone\u001b[39;00m,\n\u001b[1;32m    312\u001b[0m ):\n\u001b[1;32m    313\u001b[0m     \u001b[38;5;124;03m\"\"\"Convert Dictionary data into an InferenceData object.\u001b[39;00m\n\u001b[1;32m    314\u001b[0m \n\u001b[1;32m    315\u001b[0m \u001b[38;5;124;03m    For a usage example read the\u001b[39;00m\n\u001b[0;32m   (...)\u001b[0m\n\u001b[1;32m    353\u001b[0m \u001b[38;5;124;03m    InferenceData object\u001b[39;00m\n\u001b[1;32m    354\u001b[0m \u001b[38;5;124;03m    \"\"\"\u001b[39;00m\n\u001b[1;32m    355\u001b[0m     \u001b[38;5;28;01mreturn\u001b[39;00m \u001b[43mDictConverter\u001b[49m\u001b[43m(\u001b[49m\n\u001b[1;32m    356\u001b[0m \u001b[43m        \u001b[49m\u001b[43mposterior\u001b[49m\u001b[38;5;241;43m=\u001b[39;49m\u001b[43mposterior\u001b[49m\u001b[43m,\u001b[49m\n\u001b[1;32m    357\u001b[0m \u001b[43m        \u001b[49m\u001b[43mposterior_predictive\u001b[49m\u001b[38;5;241;43m=\u001b[39;49m\u001b[43mposterior_predictive\u001b[49m\u001b[43m,\u001b[49m\n\u001b[1;32m    358\u001b[0m \u001b[43m        \u001b[49m\u001b[43mpredictions\u001b[49m\u001b[38;5;241;43m=\u001b[39;49m\u001b[43mpredictions\u001b[49m\u001b[43m,\u001b[49m\n\u001b[1;32m    359\u001b[0m \u001b[43m        \u001b[49m\u001b[43msample_stats\u001b[49m\u001b[38;5;241;43m=\u001b[39;49m\u001b[43msample_stats\u001b[49m\u001b[43m,\u001b[49m\n\u001b[1;32m    360\u001b[0m \u001b[43m        \u001b[49m\u001b[43mlog_likelihood\u001b[49m\u001b[38;5;241;43m=\u001b[39;49m\u001b[43mlog_likelihood\u001b[49m\u001b[43m,\u001b[49m\n\u001b[1;32m    361\u001b[0m \u001b[43m        \u001b[49m\u001b[43mprior\u001b[49m\u001b[38;5;241;43m=\u001b[39;49m\u001b[43mprior\u001b[49m\u001b[43m,\u001b[49m\n\u001b[1;32m    362\u001b[0m \u001b[43m        \u001b[49m\u001b[43mprior_predictive\u001b[49m\u001b[38;5;241;43m=\u001b[39;49m\u001b[43mprior_predictive\u001b[49m\u001b[43m,\u001b[49m\n\u001b[1;32m    363\u001b[0m \u001b[43m        \u001b[49m\u001b[43msample_stats_prior\u001b[49m\u001b[38;5;241;43m=\u001b[39;49m\u001b[43msample_stats_prior\u001b[49m\u001b[43m,\u001b[49m\n\u001b[1;32m    364\u001b[0m \u001b[43m        \u001b[49m\u001b[43mobserved_data\u001b[49m\u001b[38;5;241;43m=\u001b[39;49m\u001b[43mobserved_data\u001b[49m\u001b[43m,\u001b[49m\n\u001b[1;32m    365\u001b[0m \u001b[43m        \u001b[49m\u001b[43mconstant_data\u001b[49m\u001b[38;5;241;43m=\u001b[39;49m\u001b[43mconstant_data\u001b[49m\u001b[43m,\u001b[49m\n\u001b[1;32m    366\u001b[0m \u001b[43m        \u001b[49m\u001b[43mpredictions_constant_data\u001b[49m\u001b[38;5;241;43m=\u001b[39;49m\u001b[43mpredictions_constant_data\u001b[49m\u001b[43m,\u001b[49m\n\u001b[1;32m    367\u001b[0m \u001b[43m        \u001b[49m\u001b[43mwarmup_posterior\u001b[49m\u001b[38;5;241;43m=\u001b[39;49m\u001b[43mwarmup_posterior\u001b[49m\u001b[43m,\u001b[49m\n\u001b[1;32m    368\u001b[0m \u001b[43m        \u001b[49m\u001b[43mwarmup_posterior_predictive\u001b[49m\u001b[38;5;241;43m=\u001b[39;49m\u001b[43mwarmup_posterior_predictive\u001b[49m\u001b[43m,\u001b[49m\n\u001b[1;32m    369\u001b[0m \u001b[43m        \u001b[49m\u001b[43mwarmup_predictions\u001b[49m\u001b[38;5;241;43m=\u001b[39;49m\u001b[43mwarmup_predictions\u001b[49m\u001b[43m,\u001b[49m\n\u001b[1;32m    370\u001b[0m \u001b[43m        \u001b[49m\u001b[43mwarmup_log_likelihood\u001b[49m\u001b[38;5;241;43m=\u001b[39;49m\u001b[43mwarmup_log_likelihood\u001b[49m\u001b[43m,\u001b[49m\n\u001b[1;32m    371\u001b[0m \u001b[43m        \u001b[49m\u001b[43mwarmup_sample_stats\u001b[49m\u001b[38;5;241;43m=\u001b[39;49m\u001b[43mwarmup_sample_stats\u001b[49m\u001b[43m,\u001b[49m\n\u001b[1;32m    372\u001b[0m \u001b[43m        \u001b[49m\u001b[43msave_warmup\u001b[49m\u001b[38;5;241;43m=\u001b[39;49m\u001b[43msave_warmup\u001b[49m\u001b[43m,\u001b[49m\n\u001b[1;32m    373\u001b[0m \u001b[43m        \u001b[49m\u001b[43mcoords\u001b[49m\u001b[38;5;241;43m=\u001b[39;49m\u001b[43mcoords\u001b[49m\u001b[43m,\u001b[49m\n\u001b[1;32m    374\u001b[0m \u001b[43m        \u001b[49m\u001b[43mdims\u001b[49m\u001b[38;5;241;43m=\u001b[39;49m\u001b[43mdims\u001b[49m\u001b[43m,\u001b[49m\n\u001b[1;32m    375\u001b[0m \u001b[43m        \u001b[49m\u001b[43mpred_dims\u001b[49m\u001b[38;5;241;43m=\u001b[39;49m\u001b[43mpred_dims\u001b[49m\u001b[43m,\u001b[49m\n\u001b[1;32m    376\u001b[0m \u001b[43m        \u001b[49m\u001b[43mpred_coords\u001b[49m\u001b[38;5;241;43m=\u001b[39;49m\u001b[43mpred_coords\u001b[49m\u001b[43m,\u001b[49m\n\u001b[1;32m    377\u001b[0m \u001b[43m        \u001b[49m\u001b[43mattrs\u001b[49m\u001b[38;5;241;43m=\u001b[39;49m\u001b[43mattrs\u001b[49m\u001b[43m,\u001b[49m\n\u001b[0;32m--> 378\u001b[0m \u001b[43m    \u001b[49m\u001b[43m)\u001b[49m\u001b[38;5;241;43m.\u001b[39;49m\u001b[43mto_inference_data\u001b[49m\u001b[43m(\u001b[49m\u001b[43m)\u001b[49m\n",
      "File \u001b[0;32m~/miniconda3/envs/bean-machine/lib/python3.10/site-packages/arviz/data/io_dict.py:273\u001b[0m, in \u001b[0;36mDictConverter.to_inference_data\u001b[0;34m(self)\u001b[0m\n\u001b[1;32m    263\u001b[0m \u001b[38;5;28;01mdef\u001b[39;00m \u001b[38;5;21mto_inference_data\u001b[39m(\u001b[38;5;28mself\u001b[39m):\n\u001b[1;32m    264\u001b[0m     \u001b[38;5;124;03m\"\"\"Convert all available data to an InferenceData object.\u001b[39;00m\n\u001b[1;32m    265\u001b[0m \n\u001b[1;32m    266\u001b[0m \u001b[38;5;124;03m    Note that if groups can not be created, then the InferenceData\u001b[39;00m\n\u001b[1;32m    267\u001b[0m \u001b[38;5;124;03m    will not have those groups.\u001b[39;00m\n\u001b[1;32m    268\u001b[0m \u001b[38;5;124;03m    \"\"\"\u001b[39;00m\n\u001b[1;32m    269\u001b[0m     \u001b[38;5;28;01mreturn\u001b[39;00m InferenceData(\n\u001b[1;32m    270\u001b[0m         \u001b[38;5;241m*\u001b[39m\u001b[38;5;241m*\u001b[39m{\n\u001b[1;32m    271\u001b[0m             \u001b[38;5;124m\"\u001b[39m\u001b[38;5;124mposterior\u001b[39m\u001b[38;5;124m\"\u001b[39m: \u001b[38;5;28mself\u001b[39m\u001b[38;5;241m.\u001b[39mposterior_to_xarray(),\n\u001b[1;32m    272\u001b[0m             \u001b[38;5;124m\"\u001b[39m\u001b[38;5;124msample_stats\u001b[39m\u001b[38;5;124m\"\u001b[39m: \u001b[38;5;28mself\u001b[39m\u001b[38;5;241m.\u001b[39msample_stats_to_xarray(),\n\u001b[0;32m--> 273\u001b[0m             \u001b[38;5;124m\"\u001b[39m\u001b[38;5;124mlog_likelihood\u001b[39m\u001b[38;5;124m\"\u001b[39m: \u001b[38;5;28;43mself\u001b[39;49m\u001b[38;5;241;43m.\u001b[39;49m\u001b[43mlog_likelihood_to_xarray\u001b[49m\u001b[43m(\u001b[49m\u001b[43m)\u001b[49m,\n\u001b[1;32m    274\u001b[0m             \u001b[38;5;124m\"\u001b[39m\u001b[38;5;124mposterior_predictive\u001b[39m\u001b[38;5;124m\"\u001b[39m: \u001b[38;5;28mself\u001b[39m\u001b[38;5;241m.\u001b[39mposterior_predictive_to_xarray(),\n\u001b[1;32m    275\u001b[0m             \u001b[38;5;124m\"\u001b[39m\u001b[38;5;124mpredictions\u001b[39m\u001b[38;5;124m\"\u001b[39m: \u001b[38;5;28mself\u001b[39m\u001b[38;5;241m.\u001b[39mpredictions_to_xarray(),\n\u001b[1;32m    276\u001b[0m             \u001b[38;5;124m\"\u001b[39m\u001b[38;5;124mprior\u001b[39m\u001b[38;5;124m\"\u001b[39m: \u001b[38;5;28mself\u001b[39m\u001b[38;5;241m.\u001b[39mprior_to_xarray(),\n\u001b[1;32m    277\u001b[0m             \u001b[38;5;124m\"\u001b[39m\u001b[38;5;124msample_stats_prior\u001b[39m\u001b[38;5;124m\"\u001b[39m: \u001b[38;5;28mself\u001b[39m\u001b[38;5;241m.\u001b[39msample_stats_prior_to_xarray(),\n\u001b[1;32m    278\u001b[0m             \u001b[38;5;124m\"\u001b[39m\u001b[38;5;124mprior_predictive\u001b[39m\u001b[38;5;124m\"\u001b[39m: \u001b[38;5;28mself\u001b[39m\u001b[38;5;241m.\u001b[39mprior_predictive_to_xarray(),\n\u001b[1;32m    279\u001b[0m             \u001b[38;5;124m\"\u001b[39m\u001b[38;5;124mobserved_data\u001b[39m\u001b[38;5;124m\"\u001b[39m: \u001b[38;5;28mself\u001b[39m\u001b[38;5;241m.\u001b[39mobserved_data_to_xarray(),\n\u001b[1;32m    280\u001b[0m             \u001b[38;5;124m\"\u001b[39m\u001b[38;5;124mconstant_data\u001b[39m\u001b[38;5;124m\"\u001b[39m: \u001b[38;5;28mself\u001b[39m\u001b[38;5;241m.\u001b[39mconstant_data_to_xarray(),\n\u001b[1;32m    281\u001b[0m             \u001b[38;5;124m\"\u001b[39m\u001b[38;5;124mpredictions_constant_data\u001b[39m\u001b[38;5;124m\"\u001b[39m: \u001b[38;5;28mself\u001b[39m\u001b[38;5;241m.\u001b[39mpredictions_constant_data_to_xarray(),\n\u001b[1;32m    282\u001b[0m             \u001b[38;5;124m\"\u001b[39m\u001b[38;5;124msave_warmup\u001b[39m\u001b[38;5;124m\"\u001b[39m: \u001b[38;5;28mself\u001b[39m\u001b[38;5;241m.\u001b[39msave_warmup,\n\u001b[1;32m    283\u001b[0m         }\n\u001b[1;32m    284\u001b[0m     )\n",
      "File \u001b[0;32m~/miniconda3/envs/bean-machine/lib/python3.10/site-packages/arviz/data/base.py:46\u001b[0m, in \u001b[0;36mrequires.__call__.<locals>.wrapped\u001b[0;34m(cls, *args, **kwargs)\u001b[0m\n\u001b[1;32m     44\u001b[0m     \u001b[38;5;28;01mif\u001b[39;00m \u001b[38;5;28mall\u001b[39m([\u001b[38;5;28mgetattr\u001b[39m(\u001b[38;5;28mcls\u001b[39m, prop_i) \u001b[38;5;129;01mis\u001b[39;00m \u001b[38;5;28;01mNone\u001b[39;00m \u001b[38;5;28;01mfor\u001b[39;00m prop_i \u001b[38;5;129;01min\u001b[39;00m prop]):\n\u001b[1;32m     45\u001b[0m         \u001b[38;5;28;01mreturn\u001b[39;00m \u001b[38;5;28;01mNone\u001b[39;00m\n\u001b[0;32m---> 46\u001b[0m \u001b[38;5;28;01mreturn\u001b[39;00m \u001b[43mfunc\u001b[49m\u001b[43m(\u001b[49m\u001b[38;5;28;43mcls\u001b[39;49m\u001b[43m,\u001b[49m\u001b[43m \u001b[49m\u001b[38;5;241;43m*\u001b[39;49m\u001b[43margs\u001b[49m\u001b[43m,\u001b[49m\u001b[43m \u001b[49m\u001b[38;5;241;43m*\u001b[39;49m\u001b[38;5;241;43m*\u001b[39;49m\u001b[43mkwargs\u001b[49m\u001b[43m)\u001b[49m\n",
      "File \u001b[0;32m~/miniconda3/envs/bean-machine/lib/python3.10/site-packages/arviz/data/io_dict.py:140\u001b[0m, in \u001b[0;36mDictConverter.log_likelihood_to_xarray\u001b[0;34m(self)\u001b[0m\n\u001b[1;32m    136\u001b[0m \u001b[38;5;28;01mif\u001b[39;00m \u001b[38;5;129;01mnot\u001b[39;00m \u001b[38;5;28misinstance\u001b[39m(data_warmup, \u001b[38;5;28mdict\u001b[39m):\n\u001b[1;32m    137\u001b[0m     \u001b[38;5;28;01mraise\u001b[39;00m \u001b[38;5;167;01mTypeError\u001b[39;00m(\u001b[38;5;124m\"\u001b[39m\u001b[38;5;124mDictConverter.warmup_log_likelihood is not a dictionary\u001b[39m\u001b[38;5;124m\"\u001b[39m)\n\u001b[1;32m    139\u001b[0m \u001b[38;5;28;01mreturn\u001b[39;00m (\n\u001b[0;32m--> 140\u001b[0m     \u001b[43mdict_to_dataset\u001b[49m\u001b[43m(\u001b[49m\n\u001b[1;32m    141\u001b[0m \u001b[43m        \u001b[49m\u001b[43mdata\u001b[49m\u001b[43m,\u001b[49m\n\u001b[1;32m    142\u001b[0m \u001b[43m        \u001b[49m\u001b[43mlibrary\u001b[49m\u001b[38;5;241;43m=\u001b[39;49m\u001b[38;5;28;43;01mNone\u001b[39;49;00m\u001b[43m,\u001b[49m\n\u001b[1;32m    143\u001b[0m \u001b[43m        \u001b[49m\u001b[43mcoords\u001b[49m\u001b[38;5;241;43m=\u001b[39;49m\u001b[38;5;28;43mself\u001b[39;49m\u001b[38;5;241;43m.\u001b[39;49m\u001b[43mcoords\u001b[49m\u001b[43m,\u001b[49m\n\u001b[1;32m    144\u001b[0m \u001b[43m        \u001b[49m\u001b[43mdims\u001b[49m\u001b[38;5;241;43m=\u001b[39;49m\u001b[38;5;28;43mself\u001b[39;49m\u001b[38;5;241;43m.\u001b[39;49m\u001b[43mdims\u001b[49m\u001b[43m,\u001b[49m\n\u001b[1;32m    145\u001b[0m \u001b[43m        \u001b[49m\u001b[43mattrs\u001b[49m\u001b[38;5;241;43m=\u001b[39;49m\u001b[38;5;28;43mself\u001b[39;49m\u001b[38;5;241;43m.\u001b[39;49m\u001b[43mattrs\u001b[49m\u001b[43m,\u001b[49m\n\u001b[1;32m    146\u001b[0m \u001b[43m        \u001b[49m\u001b[43mskip_event_dims\u001b[49m\u001b[38;5;241;43m=\u001b[39;49m\u001b[38;5;28;43;01mTrue\u001b[39;49;00m\u001b[43m,\u001b[49m\n\u001b[1;32m    147\u001b[0m \u001b[43m    \u001b[49m\u001b[43m)\u001b[49m,\n\u001b[1;32m    148\u001b[0m     dict_to_dataset(\n\u001b[1;32m    149\u001b[0m         data_warmup,\n\u001b[1;32m    150\u001b[0m         library\u001b[38;5;241m=\u001b[39m\u001b[38;5;28;01mNone\u001b[39;00m,\n\u001b[1;32m    151\u001b[0m         coords\u001b[38;5;241m=\u001b[39m\u001b[38;5;28mself\u001b[39m\u001b[38;5;241m.\u001b[39mcoords,\n\u001b[1;32m    152\u001b[0m         dims\u001b[38;5;241m=\u001b[39m\u001b[38;5;28mself\u001b[39m\u001b[38;5;241m.\u001b[39mdims,\n\u001b[1;32m    153\u001b[0m         attrs\u001b[38;5;241m=\u001b[39m\u001b[38;5;28mself\u001b[39m\u001b[38;5;241m.\u001b[39mattrs,\n\u001b[1;32m    154\u001b[0m         skip_event_dims\u001b[38;5;241m=\u001b[39m\u001b[38;5;28;01mTrue\u001b[39;00m,\n\u001b[1;32m    155\u001b[0m     ),\n\u001b[1;32m    156\u001b[0m )\n",
      "File \u001b[0;32m~/miniconda3/envs/bean-machine/lib/python3.10/site-packages/arviz/data/base.py:240\u001b[0m, in \u001b[0;36mdict_to_dataset\u001b[0;34m(data, attrs, library, coords, dims, skip_event_dims)\u001b[0m\n\u001b[1;32m    238\u001b[0m data_vars \u001b[38;5;241m=\u001b[39m {}\n\u001b[1;32m    239\u001b[0m \u001b[38;5;28;01mfor\u001b[39;00m key, values \u001b[38;5;129;01min\u001b[39;00m data\u001b[38;5;241m.\u001b[39mitems():\n\u001b[0;32m--> 240\u001b[0m     data_vars[key] \u001b[38;5;241m=\u001b[39m \u001b[43mnumpy_to_data_array\u001b[49m\u001b[43m(\u001b[49m\n\u001b[1;32m    241\u001b[0m \u001b[43m        \u001b[49m\u001b[43mvalues\u001b[49m\u001b[43m,\u001b[49m\u001b[43m \u001b[49m\u001b[43mvar_name\u001b[49m\u001b[38;5;241;43m=\u001b[39;49m\u001b[43mkey\u001b[49m\u001b[43m,\u001b[49m\u001b[43m \u001b[49m\u001b[43mcoords\u001b[49m\u001b[38;5;241;43m=\u001b[39;49m\u001b[43mcoords\u001b[49m\u001b[43m,\u001b[49m\u001b[43m \u001b[49m\u001b[43mdims\u001b[49m\u001b[38;5;241;43m=\u001b[39;49m\u001b[43mdims\u001b[49m\u001b[38;5;241;43m.\u001b[39;49m\u001b[43mget\u001b[49m\u001b[43m(\u001b[49m\u001b[43mkey\u001b[49m\u001b[43m)\u001b[49m\u001b[43m,\u001b[49m\u001b[43m \u001b[49m\u001b[43mskip_event_dims\u001b[49m\u001b[38;5;241;43m=\u001b[39;49m\u001b[43mskip_event_dims\u001b[49m\n\u001b[1;32m    242\u001b[0m \u001b[43m    \u001b[49m\u001b[43m)\u001b[49m\n\u001b[1;32m    243\u001b[0m \u001b[38;5;28;01mreturn\u001b[39;00m xr\u001b[38;5;241m.\u001b[39mDataset(data_vars\u001b[38;5;241m=\u001b[39mdata_vars, attrs\u001b[38;5;241m=\u001b[39mmake_attrs(attrs\u001b[38;5;241m=\u001b[39mattrs, library\u001b[38;5;241m=\u001b[39mlibrary))\n",
      "File \u001b[0;32m~/miniconda3/envs/bean-machine/lib/python3.10/site-packages/arviz/data/base.py:166\u001b[0m, in \u001b[0;36mnumpy_to_data_array\u001b[0;34m(ary, var_name, coords, dims, skip_event_dims)\u001b[0m\n\u001b[1;32m    164\u001b[0m \u001b[38;5;66;03m# manage and transform copies\u001b[39;00m\n\u001b[1;32m    165\u001b[0m default_dims \u001b[38;5;241m=\u001b[39m [\u001b[38;5;124m\"\u001b[39m\u001b[38;5;124mchain\u001b[39m\u001b[38;5;124m\"\u001b[39m, \u001b[38;5;124m\"\u001b[39m\u001b[38;5;124mdraw\u001b[39m\u001b[38;5;124m\"\u001b[39m]\n\u001b[0;32m--> 166\u001b[0m ary \u001b[38;5;241m=\u001b[39m \u001b[43mutils\u001b[49m\u001b[38;5;241;43m.\u001b[39;49m\u001b[43mtwo_de\u001b[49m\u001b[43m(\u001b[49m\u001b[43mary\u001b[49m\u001b[43m)\u001b[49m\n\u001b[1;32m    167\u001b[0m n_chains, n_samples, \u001b[38;5;241m*\u001b[39mshape \u001b[38;5;241m=\u001b[39m ary\u001b[38;5;241m.\u001b[39mshape\n\u001b[1;32m    168\u001b[0m \u001b[38;5;28;01mif\u001b[39;00m n_chains \u001b[38;5;241m>\u001b[39m n_samples:\n",
      "File \u001b[0;32m~/miniconda3/envs/bean-machine/lib/python3.10/site-packages/arviz/utils.py:379\u001b[0m, in \u001b[0;36mtwo_de\u001b[0;34m(x)\u001b[0m\n\u001b[1;32m    377\u001b[0m \u001b[38;5;124;03m\"\"\"Jitting numpy at_least_2d.\"\"\"\u001b[39;00m\n\u001b[1;32m    378\u001b[0m \u001b[38;5;28;01mif\u001b[39;00m \u001b[38;5;129;01mnot\u001b[39;00m \u001b[38;5;28misinstance\u001b[39m(x, np\u001b[38;5;241m.\u001b[39mndarray):\n\u001b[0;32m--> 379\u001b[0m     \u001b[38;5;28;01mreturn\u001b[39;00m \u001b[43mnp\u001b[49m\u001b[38;5;241;43m.\u001b[39;49m\u001b[43matleast_2d\u001b[49m\u001b[43m(\u001b[49m\u001b[43mx\u001b[49m\u001b[43m)\u001b[49m\n\u001b[1;32m    380\u001b[0m \u001b[38;5;28;01mif\u001b[39;00m x\u001b[38;5;241m.\u001b[39mndim \u001b[38;5;241m==\u001b[39m \u001b[38;5;241m0\u001b[39m:\n\u001b[1;32m    381\u001b[0m     result \u001b[38;5;241m=\u001b[39m x\u001b[38;5;241m.\u001b[39mreshape(\u001b[38;5;241m1\u001b[39m, \u001b[38;5;241m1\u001b[39m)\n",
      "File \u001b[0;32m<__array_function__ internals>:180\u001b[0m, in \u001b[0;36matleast_2d\u001b[0;34m(*args, **kwargs)\u001b[0m\n",
      "File \u001b[0;32m~/miniconda3/envs/bean-machine/lib/python3.10/site-packages/numpy/core/shape_base.py:121\u001b[0m, in \u001b[0;36matleast_2d\u001b[0;34m(*arys)\u001b[0m\n\u001b[1;32m    119\u001b[0m res \u001b[38;5;241m=\u001b[39m []\n\u001b[1;32m    120\u001b[0m \u001b[38;5;28;01mfor\u001b[39;00m ary \u001b[38;5;129;01min\u001b[39;00m arys:\n\u001b[0;32m--> 121\u001b[0m     ary \u001b[38;5;241m=\u001b[39m \u001b[43masanyarray\u001b[49m\u001b[43m(\u001b[49m\u001b[43mary\u001b[49m\u001b[43m)\u001b[49m\n\u001b[1;32m    122\u001b[0m     \u001b[38;5;28;01mif\u001b[39;00m ary\u001b[38;5;241m.\u001b[39mndim \u001b[38;5;241m==\u001b[39m \u001b[38;5;241m0\u001b[39m:\n\u001b[1;32m    123\u001b[0m         result \u001b[38;5;241m=\u001b[39m ary\u001b[38;5;241m.\u001b[39mreshape(\u001b[38;5;241m1\u001b[39m, \u001b[38;5;241m1\u001b[39m)\n",
      "File \u001b[0;32m~/miniconda3/envs/bean-machine/lib/python3.10/site-packages/torch/_tensor.py:732\u001b[0m, in \u001b[0;36mTensor.__array__\u001b[0;34m(self, dtype)\u001b[0m\n\u001b[1;32m    730\u001b[0m     \u001b[38;5;28;01mreturn\u001b[39;00m handle_torch_function(Tensor\u001b[38;5;241m.\u001b[39m__array__, (\u001b[38;5;28mself\u001b[39m,), \u001b[38;5;28mself\u001b[39m, dtype\u001b[38;5;241m=\u001b[39mdtype)\n\u001b[1;32m    731\u001b[0m \u001b[38;5;28;01mif\u001b[39;00m dtype \u001b[38;5;129;01mis\u001b[39;00m \u001b[38;5;28;01mNone\u001b[39;00m:\n\u001b[0;32m--> 732\u001b[0m     \u001b[38;5;28;01mreturn\u001b[39;00m \u001b[38;5;28;43mself\u001b[39;49m\u001b[38;5;241;43m.\u001b[39;49m\u001b[43mnumpy\u001b[49m\u001b[43m(\u001b[49m\u001b[43m)\u001b[49m\n\u001b[1;32m    733\u001b[0m \u001b[38;5;28;01melse\u001b[39;00m:\n\u001b[1;32m    734\u001b[0m     \u001b[38;5;28;01mreturn\u001b[39;00m \u001b[38;5;28mself\u001b[39m\u001b[38;5;241m.\u001b[39mnumpy()\u001b[38;5;241m.\u001b[39mastype(dtype, copy\u001b[38;5;241m=\u001b[39m\u001b[38;5;28;01mFalse\u001b[39;00m)\n",
      "\u001b[0;31mRuntimeError\u001b[0m: Can't call numpy() on Tensor that requires grad. Use tensor.detach().numpy() instead."
     ]
    }
   ],
   "source": [
    "summary_df = az.summary(samples.to_inference_data())\n",
    "Markdown(summary_df.to_markdown())"
   ]
  },
  {
   "cell_type": "code",
   "execution_count": null,
   "metadata": {},
   "outputs": [],
   "source": [
    "lengthscale_samples = samples.get_chain(0)[lengthscale()]\n",
    "outputscale_samples = samples.get_chain(0)[outputscale()]\n",
    "period_length_samples = samples.get_chain(0)[period_length()]\n",
    "mean_samples = samples.get_chain(0)[mean()]\n",
    "noise_samples = samples.get_chain(0)[noise()]"
   ]
  },
  {
   "cell_type": "code",
   "execution_count": null,
   "metadata": {},
   "outputs": [],
   "source": [
    "if not smoke_test:\n",
    "    plt.figure(figsize=(8, 5))\n",
    "    sns.distplot(lengthscale_samples, label=\"lengthscale\")\n",
    "    sns.distplot(outputscale_samples, label=\"outputscale\")\n",
    "    sns.distplot(period_length_samples[: int(num_samples / 2)], label=\"periodlength\")\n",
    "    plt.legend()\n",
    "    plt.title(\"Posterior Empirical Distribution\", fontsize=18)\n",
    "    plt.tight_layout()\n",
    "    plt.show()"
   ]
  },
  {
   "cell_type": "markdown",
   "metadata": {},
   "source": [
    "To generate predictions, we will convert our model to a Gpytorch model by running in `eval` mode. We load our posterior samples with a python dict, keyed on the parameter namespace and valued on the torch tensor of samples. Note the `unsqueeze`s to allow broadcasting of the data dimension to the right. "
   ]
  },
  {
   "cell_type": "code",
   "execution_count": null,
   "metadata": {},
   "outputs": [],
   "source": [
    "gp.eval()  # converts to Gpytorch model in eval mode\n",
    "gp.bm_load_samples(\n",
    "    {\n",
    "        \"kernel.outputscale\": outputscale_samples,\n",
    "        \"kernel.base_kernel.lengthscale\": lengthscale_samples.unsqueeze(-1),\n",
    "        \"kernel.base_kernel.period_length\": period_length_samples.unsqueeze(-1),\n",
    "        \"likelihood.noise\": noise_samples,\n",
    "        \"mean\": mean_samples,\n",
    "    }\n",
    ")\n",
    "expanded_x_test = x_test.unsqueeze(0).repeat(num_samples, 1, 1)\n",
    "output = gp(expanded_x_test.detach(), batch_shape=(num_samples,))"
   ]
  },
  {
   "cell_type": "markdown",
   "metadata": {},
   "source": [
    "Now we let's plot a few predictive samples from our GP. As you can see, we can draw different kernels, each of which paramaterizes a Multivariate Normal."
   ]
  },
  {
   "cell_type": "code",
   "execution_count": null,
   "metadata": {},
   "outputs": [],
   "source": [
    "if not smoke_test:\n",
    "    with torch.no_grad():\n",
    "        f, ax = plt.subplots(1, 1, figsize=(8, 5))\n",
    "        ax.plot(x_train.numpy(), y_train.numpy(), \"k*\", zorder=10)\n",
    "        ax.plot(\n",
    "            x_test.numpy(),\n",
    "            output.mean.median(0)[0].detach().numpy(),\n",
    "            \"b\",\n",
    "            linewidth=1.5,\n",
    "        )\n",
    "        for i in range(min(20, num_samples)):\n",
    "            ax.plot(\n",
    "                x_test.numpy(),\n",
    "                output.mean[i].detach().numpy(),\n",
    "                \"gray\",\n",
    "                linewidth=0.3,\n",
    "                alpha=0.8,\n",
    "            )\n",
    "        ax.legend([\"Observed Data\", \"Median\", \"Sampled Means\"])"
   ]
  },
  {
   "cell_type": "markdown",
   "metadata": {},
   "source": [
    "## References\n",
    "[1] Rasmussen, Carl and Williams, Christopher. **Gaussian Processes for Machine Learning**. 2006."
   ]
  }
 ],
 "metadata": {
  "kernelspec": {
   "display_name": "Python 3 (ipykernel)",
   "language": "python",
   "name": "python3"
  },
  "language_info": {
   "codemirror_mode": {
    "name": "ipython",
    "version": 3
   },
   "file_extension": ".py",
   "mimetype": "text/x-python",
   "name": "python",
   "nbconvert_exporter": "python",
   "pygments_lexer": "ipython3",
   "version": "3.10.4"
  }
 },
 "nbformat": 4,
 "nbformat_minor": 4
}
